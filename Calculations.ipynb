{
 "cells": [
  {
   "cell_type": "code",
   "execution_count": 2,
   "id": "bc9d7111",
   "metadata": {},
   "outputs": [],
   "source": [
    "import numpy as np"
   ]
  },
  {
   "cell_type": "code",
   "execution_count": 12,
   "id": "c8b644b5",
   "metadata": {},
   "outputs": [],
   "source": [
    "def stat(array):\n",
    "    tot = np.sum(array)\n",
    "    print('Max category: ', np.argmax(array) + 1)\n",
    "    print('Max perc:', np.max(array)/tot)\n",
    "    print('Relative perc of every category:')\n",
    "    for i,n in enumerate(array):\n",
    "        print(i,n/tot * 100)\n",
    "    "
   ]
  },
  {
   "cell_type": "code",
   "execution_count": 13,
   "id": "cbc22ac7",
   "metadata": {},
   "outputs": [],
   "source": [
    "# general questions\n",
    "age = (1, 32, 26, 8, 3, 3)\n",
    "other_exp_freq = (4, 16, 13, 14, 10 , 4, 1, 2, 1, 8)\n",
    "other_last_use = (2, 4, 9, 26, 8, 13, 11)\n",
    "AVH_wo_psyc = (50, 4, 22, 6, 2)\n",
    "\n",
    "#ayahuasca \n",
    "first_ayahuasca = (1, 5, 29, 26, 15, 5, 1)\n",
    "freq_ayahuasca = (1,30,18,6,6,4,1,3,3,5)\n",
    "last_ayahuasca = (1,5,3,18,19,20,10)\n",
    "\n",
    "\n"
   ]
  },
  {
   "cell_type": "code",
   "execution_count": 11,
   "id": "055e375f",
   "metadata": {},
   "outputs": [
    {
     "name": "stdout",
     "output_type": "stream",
     "text": [
      "Max category:  2\n",
      "Perc max: 0.4383561643835616\n",
      "Relative perc of every category\n",
      "0 1.36986301369863\n",
      "1 43.83561643835616\n",
      "2 35.61643835616438\n",
      "3 10.95890410958904\n",
      "4 4.10958904109589\n",
      "5 4.10958904109589\n"
     ]
    }
   ],
   "source": [
    "stat(age)"
   ]
  },
  {
   "cell_type": "code",
   "execution_count": null,
   "id": "61b72818",
   "metadata": {},
   "outputs": [],
   "source": []
  }
 ],
 "metadata": {
  "kernelspec": {
   "display_name": "Python 3 (ipykernel)",
   "language": "python",
   "name": "python3"
  },
  "language_info": {
   "codemirror_mode": {
    "name": "ipython",
    "version": 3
   },
   "file_extension": ".py",
   "mimetype": "text/x-python",
   "name": "python",
   "nbconvert_exporter": "python",
   "pygments_lexer": "ipython3",
   "version": "3.9.13"
  }
 },
 "nbformat": 4,
 "nbformat_minor": 5
}
